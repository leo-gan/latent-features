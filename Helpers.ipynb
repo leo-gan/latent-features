{
 "cells": [
  {
   "cell_type": "markdown",
   "metadata": {},
   "source": [
    "### Add a field as a median value of a group\n",
    "Here the value is the substraction of two other fields. So the simplest version is only for a single field not the substraction of two."
   ]
  },
  {
   "cell_type": "code",
   "execution_count": 14,
   "metadata": {
    "ExecuteTime": {
     "end_time": "2018-03-08T23:12:05.037750Z",
     "start_time": "2018-03-08T23:12:04.779254Z"
    }
   },
   "outputs": [
    {
     "name": "stdout",
     "output_type": "stream",
     "text": [
      "   bidder_id  start  end\n",
      "0          1      2    3\n",
      "1          1      4    9\n",
      "2          1      4   94\n",
      "3         11     22   33\n",
      "4        111    222  333\n",
      "   bidder_id  new_median\n",
      "0          1           5\n",
      "1         11          11\n",
      "2        111         111\n",
      "   bidder_id  start  end  new_median\n",
      "0          1      2    3           5\n",
      "1          1      4    9           5\n",
      "2          1      4   94           5\n",
      "3         11     22   33          11\n",
      "4        111    222  333         111\n",
      "   bidder_id  start  end  new_median  new_mean\n",
      "0          1      2    3           5        32\n",
      "1          1      4    9           5        32\n",
      "2          1      4   94           5        32\n",
      "3         11     22   33          11        11\n",
      "4        111    222  333         111       111\n",
      "   bidder_id  start  end  new_median  new_mean  new2_mean\n",
      "0          1      2    3           5        32         32\n",
      "1          1      4    9           5        32         32\n",
      "2          1      4   94           5        32         32\n",
      "3         11     22   33          11        11         11\n",
      "4        111    222  333         111       111        111\n",
      "   bidder_id  start  end  new_median  new_mean  new2_mean  new2_median\n",
      "0          1      2    3           5        32         32            5\n",
      "1          1      4    9           5        32         32            5\n",
      "2          1      4   94           5        32         32            5\n",
      "3         11     22   33          11        11         11           11\n",
      "4        111    222  333         111       111        111          111\n",
      "   bidder_id  start  end  new_median  new_mean  new2_mean  new2_median  \\\n",
      "0          1      2    3           5        32         32            5   \n",
      "1          1      4    9           5        32         32            5   \n",
      "2          1      4   94           5        32         32            5   \n",
      "3         11     22   33          11        11         11           11   \n",
      "4        111    222  333         111       111        111          111   \n",
      "\n",
      "    new2_std  \n",
      "0  50.269275  \n",
      "1  50.269275  \n",
      "2  50.269275  \n",
      "3        NaN  \n",
      "4        NaN  \n",
      "   bidder_id  start  end  new_median  new_mean  new2_mean  new2_median  \\\n",
      "0          1      2    3           5        32         32            5   \n",
      "1          1      4    9           5        32         32            5   \n",
      "2          1      4   94           5        32         32            5   \n",
      "3         11     22   33          11        11         11           11   \n",
      "4        111    222  333         111       111        111          111   \n",
      "\n",
      "    new2_std  some_new  \n",
      "0  50.269275       NaN  \n",
      "1  50.269275  3.333333  \n",
      "2  50.269275       NaN  \n",
      "3        NaN       NaN  \n",
      "4        NaN       NaN  \n"
     ]
    }
   ],
   "source": [
    "import pandas as pd\n",
    "import numpy as np\n",
    "\n",
    "def add_median_field(df, group_field, field_start, field_end, new_field_name):\n",
    "    df[new_field_name] = df[field_end] - df[field_start]\n",
    "    b = df.groupby(group_field)[new_field_name].median().reset_index()\n",
    "    b = b.rename(columns = {new_field_name: new_field_name+'_median'})\n",
    "    print(b.head())\n",
    "    df.drop([new_field_name], axis=1, inplace=True)\n",
    "    return pd.merge(df, b, on=group_field, how='left')\t\n",
    "\n",
    "def add_mean_field(df, group_field, field_start, field_end, new_field_name):\n",
    "    df[new_field_name] = df[field_end] - df[field_start]\n",
    "    b = df.groupby(group_field)[new_field_name].mean().reset_index()\n",
    "    b = b.rename(columns = {new_field_name: new_field_name+'_mean'})\n",
    "    df.drop([new_field_name], axis=1, inplace=True)\n",
    "    return pd.merge(df, b, on=group_field, how='left')\t\n",
    "\n",
    "def add_aggregator_field(df, group_field, field_start, field_end, new_field_name, aggregator_operation: str):\n",
    "    df[new_field_name] = df[field_end] - df[field_start]\n",
    "    b = df.groupby(group_field)[new_field_name]\n",
    "    op = getattr(b, aggregator_operation)\n",
    "    b = op().reset_index()\n",
    "    b.rename(columns = {new_field_name: new_field_name+'_'+aggregator_operation}, inplace=True)\n",
    "    df.drop([new_field_name], axis=1, inplace=True)\n",
    "    return pd.merge(df, b, on=group_field, how='left')\n",
    "\n",
    "x1 = np.array([[1,2,3],[1,4,9],[1,4,94],[11,22,33], [111,222,333]])\n",
    "X1 = pd.DataFrame(data=x1, columns=['bidder_id', 'start', 'end'])\n",
    "print(X1.head())\n",
    "X1 = add_median_field(X1, 'bidder_id', 'start', 'end', 'new')\n",
    "print(X1.head())\n",
    "X1 = add_mean_field(X1, 'bidder_id', 'start', 'end', 'new')\n",
    "print(X1.head())\n",
    "X1 = add_aggregator_field(X1, 'bidder_id', 'start', 'end', 'new2', 'mean')\n",
    "print(X1.head())\n",
    "X1 = add_aggregator_field(X1, 'bidder_id', 'start', 'end', 'new2', 'median')\n",
    "print(X1.head())\n",
    "X1 = add_aggregator_field(X1, 'bidder_id', 'start', 'end', 'new2', 'std')\n",
    "print(X1.head())\n",
    "X1['some_new'] = X1.groupby('bidder_id')['start'].mean()\n",
    "print(X1.head())"
   ]
  },
  {
   "cell_type": "code",
   "execution_count": 4,
   "metadata": {
    "ExecuteTime": {
     "end_time": "2018-03-08T21:53:49.598428Z",
     "start_time": "2018-03-08T21:53:49.575417Z"
    }
   },
   "outputs": [
    {
     "ename": "NameError",
     "evalue": "name 'x' is not defined",
     "traceback": [
      "\u001b[1;31m---------------------------------------------------------------------------\u001b[0m",
      "\u001b[1;31mNameError\u001b[0m                                 Traceback (most recent call last)",
      "\u001b[1;32m<ipython-input-4-0acf205d34c2>\u001b[0m in \u001b[0;36m<module>\u001b[1;34m()\u001b[0m\n\u001b[0;32m      1\u001b[0m \u001b[1;31m# feature importance for lgblight\u001b[0m\u001b[1;33m\u001b[0m\u001b[1;33m\u001b[0m\u001b[0m\n\u001b[1;32m----> 2\u001b[1;33m \u001b[1;33m{\u001b[0m\u001b[0mi\u001b[0m\u001b[1;33m:\u001b[0m \u001b[0mcol\u001b[0m \u001b[1;32mfor\u001b[0m \u001b[0mi\u001b[0m\u001b[1;33m,\u001b[0m \u001b[0mcol\u001b[0m \u001b[1;32min\u001b[0m \u001b[0menumerate\u001b[0m\u001b[1;33m(\u001b[0m\u001b[0mzip\u001b[0m\u001b[1;33m(\u001b[0m\u001b[0mx\u001b[0m\u001b[1;33m.\u001b[0m\u001b[0mcolumns\u001b[0m\u001b[1;33m,\u001b[0m \u001b[0mgbm1\u001b[0m\u001b[1;33m.\u001b[0m\u001b[0mfeature_importance\u001b[0m\u001b[1;33m(\u001b[0m\u001b[1;33m)\u001b[0m\u001b[1;33m,\u001b[0m \u001b[0mgbm2\u001b[0m\u001b[1;33m.\u001b[0m\u001b[0mfeature_importance\u001b[0m\u001b[1;33m(\u001b[0m\u001b[1;33m)\u001b[0m\u001b[1;33m)\u001b[0m\u001b[1;33m)\u001b[0m\u001b[1;33m}\u001b[0m\u001b[1;33m\u001b[0m\u001b[0m\n\u001b[0m",
      "\u001b[1;31mNameError\u001b[0m: name 'x' is not defined"
     ],
     "output_type": "error"
    }
   ],
   "source": [
    "# feature importance for lgblight\n",
    "{i: col for i, col in enumerate(zip(x.columns, gbm1.feature_importance(), gbm2.feature_importance()))}"
   ]
  },
  {
   "cell_type": "code",
   "execution_count": 10,
   "metadata": {
    "ExecuteTime": {
     "end_time": "2018-03-08T21:58:10.866883Z",
     "start_time": "2018-03-08T21:58:10.829857Z"
    }
   },
   "outputs": [
    {
     "name": "stdout",
     "output_type": "stream",
     "text": [
      "   bidder_id  time  endt\n",
      "0          1     2     3\n",
      "1          1     4     9\n",
      "2          1     5    99\n",
      "3         11    22    33\n",
      "4        111   222   333\n"
     ]
    },
    {
     "data": {
      "text/html": [
       "<div>\n",
       "<style scoped>\n",
       "    .dataframe tbody tr th:only-of-type {\n",
       "        vertical-align: middle;\n",
       "    }\n",
       "\n",
       "    .dataframe tbody tr th {\n",
       "        vertical-align: top;\n",
       "    }\n",
       "\n",
       "    .dataframe thead th {\n",
       "        text-align: right;\n",
       "    }\n",
       "</style>\n",
       "<table border=\"1\" class=\"dataframe\">\n",
       "  <thead>\n",
       "    <tr style=\"text-align: right;\">\n",
       "      <th></th>\n",
       "      <th>bidder_id</th>\n",
       "      <th>time</th>\n",
       "      <th>endt</th>\n",
       "      <th>bidder_id_prev</th>\n",
       "    </tr>\n",
       "  </thead>\n",
       "  <tbody>\n",
       "    <tr>\n",
       "      <th>0</th>\n",
       "      <td>1</td>\n",
       "      <td>2</td>\n",
       "      <td>3</td>\n",
       "      <td>NaN</td>\n",
       "    </tr>\n",
       "    <tr>\n",
       "      <th>1</th>\n",
       "      <td>1</td>\n",
       "      <td>4</td>\n",
       "      <td>9</td>\n",
       "      <td>1.0</td>\n",
       "    </tr>\n",
       "    <tr>\n",
       "      <th>2</th>\n",
       "      <td>1</td>\n",
       "      <td>5</td>\n",
       "      <td>99</td>\n",
       "      <td>1.0</td>\n",
       "    </tr>\n",
       "    <tr>\n",
       "      <th>3</th>\n",
       "      <td>11</td>\n",
       "      <td>22</td>\n",
       "      <td>33</td>\n",
       "      <td>1.0</td>\n",
       "    </tr>\n",
       "    <tr>\n",
       "      <th>4</th>\n",
       "      <td>111</td>\n",
       "      <td>222</td>\n",
       "      <td>333</td>\n",
       "      <td>11.0</td>\n",
       "    </tr>\n",
       "  </tbody>\n",
       "</table>\n",
       "</div>"
      ],
      "text/plain": [
       "   bidder_id  time  endt  bidder_id_prev\n",
       "0          1     2     3             NaN\n",
       "1          1     4     9             1.0\n",
       "2          1     5    99             1.0\n",
       "3         11    22    33             1.0\n",
       "4        111   222   333            11.0"
      ]
     },
     "execution_count": 10,
     "metadata": {},
     "output_type": "execute_result"
    }
   ],
   "source": [
    "# add value from previous row\n",
    "def add_prev(df, field):\n",
    "    #df[field + '_prev'] = pd.Series(np.append([np.nan], df[field].values[0:-1]), index=df.index)\n",
    "    df[field + '_prev'] = df[field].shift()\n",
    "    \n",
    "x1 = np.array([[1,2,3],[1,4,9],[1,5,99],[11,22,33], [111,222,333]])\n",
    "X1 = pd.DataFrame(data=x1, columns=['bidder_id', 'time', 'endt'])\n",
    "print(X1.head())\n",
    "add_prev(X1, 'bidder_id')\n",
    "X1.head()"
   ]
  },
  {
   "cell_type": "code",
   "execution_count": 27,
   "metadata": {
    "ExecuteTime": {
     "end_time": "2018-03-08T23:26:34.042517Z",
     "start_time": "2018-03-08T23:26:34.014990Z"
    }
   },
   "outputs": [
    {
     "data": {
      "text/html": [
       "<div>\n",
       "<style scoped>\n",
       "    .dataframe tbody tr th:only-of-type {\n",
       "        vertical-align: middle;\n",
       "    }\n",
       "\n",
       "    .dataframe tbody tr th {\n",
       "        vertical-align: top;\n",
       "    }\n",
       "\n",
       "    .dataframe thead th {\n",
       "        text-align: right;\n",
       "    }\n",
       "</style>\n",
       "<table border=\"1\" class=\"dataframe\">\n",
       "  <thead>\n",
       "    <tr style=\"text-align: right;\">\n",
       "      <th></th>\n",
       "      <th>bidder_id</th>\n",
       "      <th>time</th>\n",
       "      <th>endt</th>\n",
       "      <th>bid_order</th>\n",
       "    </tr>\n",
       "  </thead>\n",
       "  <tbody>\n",
       "    <tr>\n",
       "      <th>0</th>\n",
       "      <td>1</td>\n",
       "      <td>2</td>\n",
       "      <td>3</td>\n",
       "      <td>0.000000</td>\n",
       "    </tr>\n",
       "    <tr>\n",
       "      <th>1</th>\n",
       "      <td>1</td>\n",
       "      <td>4</td>\n",
       "      <td>9</td>\n",
       "      <td>0.166667</td>\n",
       "    </tr>\n",
       "    <tr>\n",
       "      <th>2</th>\n",
       "      <td>1</td>\n",
       "      <td>5</td>\n",
       "      <td>99</td>\n",
       "      <td>0.333333</td>\n",
       "    </tr>\n",
       "    <tr>\n",
       "      <th>3</th>\n",
       "      <td>11</td>\n",
       "      <td>22</td>\n",
       "      <td>33</td>\n",
       "      <td>0.500000</td>\n",
       "    </tr>\n",
       "    <tr>\n",
       "      <th>4</th>\n",
       "      <td>11</td>\n",
       "      <td>44</td>\n",
       "      <td>66</td>\n",
       "      <td>0.666667</td>\n",
       "    </tr>\n",
       "    <tr>\n",
       "      <th>5</th>\n",
       "      <td>111</td>\n",
       "      <td>222</td>\n",
       "      <td>333</td>\n",
       "      <td>0.833333</td>\n",
       "    </tr>\n",
       "  </tbody>\n",
       "</table>\n",
       "</div>"
      ],
      "text/plain": [
       "   bidder_id  time  endt  bid_order\n",
       "0          1     2     3   0.000000\n",
       "1          1     4     9   0.166667\n",
       "2          1     5    99   0.333333\n",
       "3         11    22    33   0.500000\n",
       "4         11    44    66   0.666667\n",
       "5        111   222   333   0.833333"
      ]
     },
     "execution_count": 27,
     "metadata": {},
     "output_type": "execute_result"
    }
   ],
   "source": [
    "x1 = np.array([[1,2,3],[1,4,9],[1,5,99],[11,22,33], [11,44,66], [111,222,333]])\n",
    "X1 = pd.DataFrame(data=x1, columns=['bidder_id', 'time', 'endt'])\n",
    "X1['bid_order'] = 1.0*np.arange(len(X1))/len(X1)\n",
    "X1.head(10)"
   ]
  },
  {
   "cell_type": "code",
   "execution_count": 25,
   "metadata": {
    "ExecuteTime": {
     "end_time": "2018-03-08T23:25:59.061703Z",
     "start_time": "2018-03-08T23:25:59.054691Z"
    }
   },
   "outputs": [
    {
     "data": {
      "text/plain": [
       "array([0, 1, 2, 3, 4, 5])"
      ]
     },
     "execution_count": 25,
     "metadata": {},
     "output_type": "execute_result"
    }
   ],
   "source": [
    "np.arange(len(X1))"
   ]
  },
  {
   "cell_type": "code",
   "execution_count": 30,
   "metadata": {
    "ExecuteTime": {
     "end_time": "2018-03-09T21:22:24.294088Z",
     "start_time": "2018-03-09T21:22:21.776862Z"
    }
   },
   "outputs": [
    {
     "name": "stdout",
     "output_type": "stream",
     "text": [
      "[process train] done in 3 s\n"
     ]
    }
   ],
   "source": [
    "from contextlib import contextmanager\n",
    "import time\n",
    "\n",
    "@contextmanager\n",
    "def timer(name):\n",
    "    t0 = time.time()\n",
    "    yield\n",
    "    print('[{}] done in {:.0f} s'.format(name, time.time() - t0))\n",
    "\n",
    "with timer('process train'):\n",
    "    time.sleep(2.5)\n",
    "    pass\n"
   ]
  },
  {
   "cell_type": "code",
   "execution_count": null,
   "metadata": {},
   "outputs": [],
   "source": [
    "from pandas_summary import DataFrameSummary\n",
    "\n",
    "DataFrameSummary(df).summary()"
   ]
  },
  {
   "cell_type": "code",
   "execution_count": null,
   "metadata": {},
   "outputs": [],
   "source": [
    "## get list of pandas dataframe columns based on data type\n",
    "\n",
    "train.columns.to_series().groupby(train.dtypes).groups"
   ]
  },
  {
   "cell_type": "code",
   "execution_count": null,
   "metadata": {},
   "outputs": [],
   "source": [
    "from sklearn.metrics import mean_squared_error\n",
    "\n",
    "def MCRMSE(columns, test, pred):\n",
    "    '''Multi-column RMSE.\n",
    "    All columns should be numerical.\n",
    "    '''\n",
    "    return np.mean([mean_squared_error(test[col], pred[col]) for col in columns])    "
   ]
  },
  {
   "cell_type": "code",
   "execution_count": null,
   "metadata": {},
   "outputs": [],
   "source": [
    "# Keras:\n",
    "\n",
    "# make layers trainable or not:\n",
    "for layer in model.layers: layer.trainable=False\n",
    "    \n",
    "# remove the last layer:\n",
    "model.pop()\n",
    "\n",
    "# add a layer:\n",
    "model.add(Dense(num_neurons, activation='softmax'))"
   ]
  },
  {
   "cell_type": "code",
   "execution_count": null,
   "metadata": {},
   "outputs": [],
   "source": [
    "from itertools import chain\n",
    "# 4 lists of 1000 elements\n",
    "l1, l2, l3, l4 = [[*range(1000)] for _ in range(4)]\n",
    "\n",
    "# unpacking into []\n",
    "%timeit [*l1, *l2, *l3, *l4]\n",
    "20 µs ± 18.6 ns per loop (mean ± std. dev. of 7 runs, 10000 loops each)\n",
    "\n",
    "# using +    \n",
    "%timeit l1 + l2 + l3 + l4\n",
    "49.5 µs ± 90.6 ns per loop (mean ± std. dev. of 7 runs, 10000 loops each)\n",
    "\n",
    "# using itertools.chain   \n",
    "%timeit list(chain(l1, l2, l3, l4))\n",
    "50.4 µs ± 12 ns per loop (mean ± std. dev. of 7 runs, 10000 loops each)"
   ]
  },
  {
   "cell_type": "code",
   "execution_count": null,
   "metadata": {},
   "outputs": [],
   "source": []
  },
  {
   "cell_type": "code",
   "execution_count": null,
   "metadata": {},
   "outputs": [],
   "source": []
  }
 ],
 "metadata": {
  "kernelspec": {
   "display_name": "Python [default]",
   "language": "python",
   "name": "python3"
  },
  "language_info": {
   "codemirror_mode": {
    "name": "ipython",
    "version": 3
   },
   "file_extension": ".py",
   "mimetype": "text/x-python",
   "name": "python",
   "nbconvert_exporter": "python",
   "pygments_lexer": "ipython3",
   "version": "3.5.3"
  }
 },
 "nbformat": 4,
 "nbformat_minor": 2
}
